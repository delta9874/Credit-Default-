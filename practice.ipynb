{
 "cells": [
  {
   "cell_type": "code",
   "execution_count": 1,
   "metadata": {
    "collapsed": true
   },
   "outputs": [],
   "source": [
    "import pandas as pd\n",
    "import numpy as np\n",
    "import seaborn as sns\n",
    "from sklearn import linear_model \n",
    "import matplotlib.pyplot as plt\n",
    "from sklearn import metrics\n",
    "from sklearn import preprocessing\n",
    "from sklearn import model_selection\n",
    "from sklearn import naive_bayes\n",
    "from sklearn import tree\n",
    "from sklearn import ensemble\n",
    "from sklearn import feature_selection\n",
    "from xgboost import XGBClassifier"
   ]
  },
  {
   "cell_type": "code",
   "execution_count": 2,
   "metadata": {
    "collapsed": true
   },
   "outputs": [],
   "source": [
    "df=pd.read_csv(\"/home/delta/dataset/project/credit_default.csv\")\n",
    "colname={\"ID\":\"id\",\"SEX\":\"sex\",\"EDUCATION\":\"edu\",\"MARRIAGE\":\"mar\",\"LIMIT_BAL\":\"lbal\",\"PAY_0\":\"p1\",\"PAY_2\":\"p2\",\"PAY_3\":\"p3\",\"PAY_4\":\"p4\",\"PAY_5\":\"p5\",\"PAY_6\":\"p6\",\n",
    "         \"BILL_AMT1\":\"ba1\",\"BILL_AMT2\":\"ba2\",\"BILL_AMT3\":\"ba3\",\"BILL_AMT4\":\"ba4\",\"BILL_AMT5\":\"ba5\",\"BILL_AMT6\":\"ba6\",\n",
    "         \"PAY_AMT1\":\"pa1\",\"PAY_AMT2\":\"pa2\",\"PAY_AMT3\":\"pa3\",\"PAY_AMT4\":\"pa4\",\"PAY_AMT5\":\"pa5\",\"PAY_AMT6\":\"pa6\"\n",
    "        ,\"default.payment.next.month\":\"dpay\"}\n",
    "df.rename(columns=colname,inplace=True)\n",
    "df.mar.replace({0:3},inplace=True)\n",
    "\n",
    "\n",
    "change = (df.edu == 5) | (df.edu == 6) | (df.edu == 0)\n",
    "df.loc[change, 'edu'] = 4\n",
    "#df.edu.value_counts()\n",
    "\n",
    "\n",
    "change = (df.p1 == -1) | (df.p1 == -2) | (df.p1 == 0)\n",
    "df.loc[change, 'p1'] = 0\n",
    "#df.p2.value_counts()\n",
    "\n",
    "change = (df.p2 == -1) | (df.p2 == -2) | (df.p2 == 0)\n",
    "df.loc[change, 'p2'] = 0\n",
    "#df.p2.value_counts()\n",
    "\n",
    "change = (df.p3 == -1) | (df.p3 == -2) | (df.p3 == 0)\n",
    "df.loc[change, 'p3'] = 0\n",
    "#df.p3.value_counts()\n",
    "\n",
    "change = (df.p4 == -1) | (df.p4 == -2) | (df.p4 == 0)\n",
    "df.loc[change, 'p4'] = 0\n",
    "#df.p4.value_counts()\n",
    "\n",
    "change = (df.p5 == -1) | (df.p5 == -2) | (df.p5 == 0)\n",
    "df.loc[change, 'p5'] = 0\n",
    "#df.p5.value_counts()\n",
    "\n",
    "change = (df.p6 == -1) | (df.p6 == -2) | (df.p6 == 0)\n",
    "df.loc[change, 'p6'] = 0\n",
    "#df.p6.value_counts()"
   ]
  },
  {
   "cell_type": "code",
   "execution_count": 4,
   "metadata": {},
   "outputs": [
    {
     "name": "stdout",
     "output_type": "stream",
     "text": [
      "<class 'pandas.core.frame.DataFrame'>\n",
      "RangeIndex: 30000 entries, 0 to 29999\n",
      "Data columns (total 24 columns):\n",
      "lbal    30000 non-null float64\n",
      "sex     30000 non-null int64\n",
      "edu     30000 non-null int64\n",
      "mar     30000 non-null int64\n",
      "AGE     30000 non-null int64\n",
      "p1      30000 non-null int64\n",
      "p2      30000 non-null int64\n",
      "p3      30000 non-null int64\n",
      "p4      30000 non-null int64\n",
      "p5      30000 non-null int64\n",
      "p6      30000 non-null int64\n",
      "ba1     30000 non-null float64\n",
      "ba2     30000 non-null float64\n",
      "ba3     30000 non-null float64\n",
      "ba4     30000 non-null float64\n",
      "ba5     30000 non-null float64\n",
      "ba6     30000 non-null float64\n",
      "pa1     30000 non-null float64\n",
      "pa2     30000 non-null float64\n",
      "pa3     30000 non-null float64\n",
      "pa4     30000 non-null float64\n",
      "pa5     30000 non-null float64\n",
      "pa6     30000 non-null float64\n",
      "dpay    30000 non-null int64\n",
      "dtypes: float64(13), int64(11)\n",
      "memory usage: 5.5 MB\n"
     ]
    },
    {
     "ename": "ValueError",
     "evalue": "labels ['id'] not contained in axis",
     "output_type": "error",
     "traceback": [
      "\u001b[0;31m---------------------------------------------------------------------------\u001b[0m",
      "\u001b[0;31mValueError\u001b[0m                                Traceback (most recent call last)",
      "\u001b[0;32m<ipython-input-4-7f778d23cd5b>\u001b[0m in \u001b[0;36m<module>\u001b[0;34m()\u001b[0m\n\u001b[1;32m      1\u001b[0m \u001b[0mdf\u001b[0m\u001b[0;34m.\u001b[0m\u001b[0minfo\u001b[0m\u001b[0;34m(\u001b[0m\u001b[0;34m)\u001b[0m\u001b[0;34m\u001b[0m\u001b[0;34m\u001b[0m\u001b[0m\n\u001b[1;32m      2\u001b[0m \u001b[0;34m\u001b[0m\u001b[0m\n\u001b[0;32m----> 3\u001b[0;31m \u001b[0mdf\u001b[0m\u001b[0;34m.\u001b[0m\u001b[0mdrop\u001b[0m\u001b[0;34m(\u001b[0m\u001b[0;34m\"id\"\u001b[0m\u001b[0;34m,\u001b[0m\u001b[0maxis\u001b[0m\u001b[0;34m=\u001b[0m\u001b[0;36m1\u001b[0m\u001b[0;34m,\u001b[0m\u001b[0minplace\u001b[0m\u001b[0;34m=\u001b[0m\u001b[0;32mTrue\u001b[0m\u001b[0;34m)\u001b[0m\u001b[0;34m\u001b[0m\u001b[0;34m\u001b[0m\u001b[0m\n\u001b[0m\u001b[1;32m      4\u001b[0m \u001b[0mdf\u001b[0m\u001b[0;34m.\u001b[0m\u001b[0msample\u001b[0m\u001b[0;34m(\u001b[0m\u001b[0;36m20\u001b[0m\u001b[0;34m)\u001b[0m\u001b[0;34m\u001b[0m\u001b[0;34m\u001b[0m\u001b[0m\n",
      "\u001b[0;32m~/anaconda3/lib/python3.6/site-packages/pandas/core/generic.py\u001b[0m in \u001b[0;36mdrop\u001b[0;34m(self, labels, axis, level, inplace, errors)\u001b[0m\n\u001b[1;32m   2159\u001b[0m                 \u001b[0mnew_axis\u001b[0m \u001b[0;34m=\u001b[0m \u001b[0maxis\u001b[0m\u001b[0;34m.\u001b[0m\u001b[0mdrop\u001b[0m\u001b[0;34m(\u001b[0m\u001b[0mlabels\u001b[0m\u001b[0;34m,\u001b[0m \u001b[0mlevel\u001b[0m\u001b[0;34m=\u001b[0m\u001b[0mlevel\u001b[0m\u001b[0;34m,\u001b[0m \u001b[0merrors\u001b[0m\u001b[0;34m=\u001b[0m\u001b[0merrors\u001b[0m\u001b[0;34m)\u001b[0m\u001b[0;34m\u001b[0m\u001b[0;34m\u001b[0m\u001b[0m\n\u001b[1;32m   2160\u001b[0m             \u001b[0;32melse\u001b[0m\u001b[0;34m:\u001b[0m\u001b[0;34m\u001b[0m\u001b[0;34m\u001b[0m\u001b[0m\n\u001b[0;32m-> 2161\u001b[0;31m                 \u001b[0mnew_axis\u001b[0m \u001b[0;34m=\u001b[0m \u001b[0maxis\u001b[0m\u001b[0;34m.\u001b[0m\u001b[0mdrop\u001b[0m\u001b[0;34m(\u001b[0m\u001b[0mlabels\u001b[0m\u001b[0;34m,\u001b[0m \u001b[0merrors\u001b[0m\u001b[0;34m=\u001b[0m\u001b[0merrors\u001b[0m\u001b[0;34m)\u001b[0m\u001b[0;34m\u001b[0m\u001b[0;34m\u001b[0m\u001b[0m\n\u001b[0m\u001b[1;32m   2162\u001b[0m             \u001b[0mdropped\u001b[0m \u001b[0;34m=\u001b[0m \u001b[0mself\u001b[0m\u001b[0;34m.\u001b[0m\u001b[0mreindex\u001b[0m\u001b[0;34m(\u001b[0m\u001b[0;34m**\u001b[0m\u001b[0;34m{\u001b[0m\u001b[0maxis_name\u001b[0m\u001b[0;34m:\u001b[0m \u001b[0mnew_axis\u001b[0m\u001b[0;34m}\u001b[0m\u001b[0;34m)\u001b[0m\u001b[0;34m\u001b[0m\u001b[0;34m\u001b[0m\u001b[0m\n\u001b[1;32m   2163\u001b[0m             \u001b[0;32mtry\u001b[0m\u001b[0;34m:\u001b[0m\u001b[0;34m\u001b[0m\u001b[0;34m\u001b[0m\u001b[0m\n",
      "\u001b[0;32m~/anaconda3/lib/python3.6/site-packages/pandas/core/indexes/base.py\u001b[0m in \u001b[0;36mdrop\u001b[0;34m(self, labels, errors)\u001b[0m\n\u001b[1;32m   3622\u001b[0m             \u001b[0;32mif\u001b[0m \u001b[0merrors\u001b[0m \u001b[0;34m!=\u001b[0m \u001b[0;34m'ignore'\u001b[0m\u001b[0;34m:\u001b[0m\u001b[0;34m\u001b[0m\u001b[0;34m\u001b[0m\u001b[0m\n\u001b[1;32m   3623\u001b[0m                 raise ValueError('labels %s not contained in axis' %\n\u001b[0;32m-> 3624\u001b[0;31m                                  labels[mask])\n\u001b[0m\u001b[1;32m   3625\u001b[0m             \u001b[0mindexer\u001b[0m \u001b[0;34m=\u001b[0m \u001b[0mindexer\u001b[0m\u001b[0;34m[\u001b[0m\u001b[0;34m~\u001b[0m\u001b[0mmask\u001b[0m\u001b[0;34m]\u001b[0m\u001b[0;34m\u001b[0m\u001b[0;34m\u001b[0m\u001b[0m\n\u001b[1;32m   3626\u001b[0m         \u001b[0;32mreturn\u001b[0m \u001b[0mself\u001b[0m\u001b[0;34m.\u001b[0m\u001b[0mdelete\u001b[0m\u001b[0;34m(\u001b[0m\u001b[0mindexer\u001b[0m\u001b[0;34m)\u001b[0m\u001b[0;34m\u001b[0m\u001b[0;34m\u001b[0m\u001b[0m\n",
      "\u001b[0;31mValueError\u001b[0m: labels ['id'] not contained in axis"
     ]
    }
   ],
   "source": [
    "df.info()\n",
    "\n",
    "df.drop(\"id\",axis=1,inplace=True)\n",
    "df.sample(20)"
   ]
  },
  {
   "cell_type": "code",
   "execution_count": 5,
   "metadata": {
    "collapsed": true
   },
   "outputs": [],
   "source": [
    "df['agecat'] = 0 #creates a column of 0\n",
    "df.loc[((df['AGE'] > 20) & (df['AGE'] < 30)) , 'agecat'] = 1\n",
    "df.loc[((df['AGE'] >= 30) & (df['AGE'] < 40)) , 'agecat'] = 2\n",
    "df.loc[((df['AGE'] >= 40) & (df['AGE'] < 50)) , 'agecat'] = 3\n",
    "df.loc[((df['AGE'] >= 50) & (df['AGE'] < 60)) , 'agecat'] = 4\n",
    "df.loc[((df['AGE'] >= 60) & (df['AGE'] < 70)) , 'agecat'] = 5\n",
    "df.loc[((df['AGE'] >= 70) & (df['AGE'] < 81)) , 'agecat'] = 6"
   ]
  },
  {
   "cell_type": "code",
   "execution_count": 6,
   "metadata": {
    "collapsed": true
   },
   "outputs": [],
   "source": [
    "cdf=df[[\"lbal\",\"pa1\",\"ba1\",\"pa2\",\"ba2\",\"pa3\",\"ba3\",\"pa4\",\"ba4\",\"pa5\",\"ba5\",\"pa6\",\"ba6\",\"dpay\"]]\n",
    "ddf=df[[\"sex\",\"edu\",\"mar\",\"AGE\",\"p1\",\"p2\",\"p3\",\"p4\",\"p5\",\"p6\",\"dpay\"]]"
   ]
  },
  {
   "cell_type": "code",
   "execution_count": 6,
   "metadata": {},
   "outputs": [
    {
     "data": {
      "image/png": "[encoded data removed]",
      "text/plain": [
       "<Figure size 720x720 with 20 Axes>"
      ]
     },
     "metadata": {},
     "output_type": "display_data"
    }
   ],
   "source": [
    "fig,axes=plt.subplots(nrows=5,ncols=4,figsize=(10,10))\n",
    "axes1=axes.flatten()\n",
    "index=0\n",
    "for col in cdf.columns.values:\n",
    "    sns.boxplot(y=col,data=cdf,ax=axes1[index])\n",
    "    index+=1\n",
    "plt.tight_layout()\n",
    "plt.show()"
   ]
  },
  {
   "cell_type": "code",
   "execution_count": 7,
   "metadata": {},
   "outputs": [
    {
     "data": {
      "text/html": [
       "<div>\n",
       "<style>\n",
       "    .dataframe thead tr:only-child th {\n",
       "        text-align: right;\n",
       "    }\n",
       "\n",
       "    .dataframe thead th {\n",
       "        text-align: left;\n",
       "    }\n",
       "\n",
       "    .dataframe tbody tr th {\n",
       "        vertical-align: top;\n",
       "    }\n",
       "</style>\n",
       "<table border=\"1\" class=\"dataframe\">\n",
       "  <thead>\n",
       "    <tr style=\"text-align: right;\">\n",
       "      <th></th>\n",
       "      <th>lbal</th>\n",
       "      <th>pa1</th>\n",
       "      <th>ba1</th>\n",
       "      <th>pa2</th>\n",
       "      <th>ba2</th>\n",
       "      <th>pa3</th>\n",
       "      <th>ba3</th>\n",
       "      <th>pa4</th>\n",
       "      <th>ba4</th>\n",
       "      <th>pa5</th>\n",
       "      <th>ba5</th>\n",
       "      <th>pa6</th>\n",
       "      <th>ba6</th>\n",
       "      <th>dpay</th>\n",
       "    </tr>\n",
       "  </thead>\n",
       "  <tbody>\n",
       "    <tr>\n",
       "      <th>count</th>\n",
       "      <td>30000.000000</td>\n",
       "      <td>30000.000000</td>\n",
       "      <td>30000.000000</td>\n",
       "      <td>3.000000e+04</td>\n",
       "      <td>30000.000000</td>\n",
       "      <td>30000.00000</td>\n",
       "      <td>3.000000e+04</td>\n",
       "      <td>30000.000000</td>\n",
       "      <td>30000.000000</td>\n",
       "      <td>30000.000000</td>\n",
       "      <td>30000.000000</td>\n",
       "      <td>30000.000000</td>\n",
       "      <td>30000.000000</td>\n",
       "      <td>30000.000000</td>\n",
       "    </tr>\n",
       "    <tr>\n",
       "      <th>mean</th>\n",
       "      <td>167484.322667</td>\n",
       "      <td>5663.580500</td>\n",
       "      <td>51223.330900</td>\n",
       "      <td>5.921163e+03</td>\n",
       "      <td>49179.075167</td>\n",
       "      <td>5225.68150</td>\n",
       "      <td>4.701315e+04</td>\n",
       "      <td>4826.076867</td>\n",
       "      <td>43262.948967</td>\n",
       "      <td>4799.387633</td>\n",
       "      <td>40311.400967</td>\n",
       "      <td>5215.502567</td>\n",
       "      <td>38871.760400</td>\n",
       "      <td>0.221200</td>\n",
       "    </tr>\n",
       "    <tr>\n",
       "      <th>std</th>\n",
       "      <td>129747.661567</td>\n",
       "      <td>16563.280354</td>\n",
       "      <td>73635.860576</td>\n",
       "      <td>2.304087e+04</td>\n",
       "      <td>71173.768783</td>\n",
       "      <td>17606.96147</td>\n",
       "      <td>6.934939e+04</td>\n",
       "      <td>15666.159744</td>\n",
       "      <td>64332.856134</td>\n",
       "      <td>15278.305679</td>\n",
       "      <td>60797.155770</td>\n",
       "      <td>17777.465775</td>\n",
       "      <td>59554.107537</td>\n",
       "      <td>0.415062</td>\n",
       "    </tr>\n",
       "    <tr>\n",
       "      <th>min</th>\n",
       "      <td>10000.000000</td>\n",
       "      <td>0.000000</td>\n",
       "      <td>-165580.000000</td>\n",
       "      <td>0.000000e+00</td>\n",
       "      <td>-69777.000000</td>\n",
       "      <td>0.00000</td>\n",
       "      <td>-1.572640e+05</td>\n",
       "      <td>0.000000</td>\n",
       "      <td>-170000.000000</td>\n",
       "      <td>0.000000</td>\n",
       "      <td>-81334.000000</td>\n",
       "      <td>0.000000</td>\n",
       "      <td>-339603.000000</td>\n",
       "      <td>0.000000</td>\n",
       "    </tr>\n",
       "    <tr>\n",
       "      <th>25%</th>\n",
       "      <td>50000.000000</td>\n",
       "      <td>1000.000000</td>\n",
       "      <td>3558.750000</td>\n",
       "      <td>8.330000e+02</td>\n",
       "      <td>2984.750000</td>\n",
       "      <td>390.00000</td>\n",
       "      <td>2.666250e+03</td>\n",
       "      <td>296.000000</td>\n",
       "      <td>2326.750000</td>\n",
       "      <td>252.500000</td>\n",
       "      <td>1763.000000</td>\n",
       "      <td>117.750000</td>\n",
       "      <td>1256.000000</td>\n",
       "      <td>0.000000</td>\n",
       "    </tr>\n",
       "    <tr>\n",
       "      <th>50%</th>\n",
       "      <td>140000.000000</td>\n",
       "      <td>2100.000000</td>\n",
       "      <td>22381.500000</td>\n",
       "      <td>2.009000e+03</td>\n",
       "      <td>21200.000000</td>\n",
       "      <td>1800.00000</td>\n",
       "      <td>2.008850e+04</td>\n",
       "      <td>1500.000000</td>\n",
       "      <td>19052.000000</td>\n",
       "      <td>1500.000000</td>\n",
       "      <td>18104.500000</td>\n",
       "      <td>1500.000000</td>\n",
       "      <td>17071.000000</td>\n",
       "      <td>0.000000</td>\n",
       "    </tr>\n",
       "    <tr>\n",
       "      <th>75%</th>\n",
       "      <td>240000.000000</td>\n",
       "      <td>5006.000000</td>\n",
       "      <td>67091.000000</td>\n",
       "      <td>5.000000e+03</td>\n",
       "      <td>64006.250000</td>\n",
       "      <td>4505.00000</td>\n",
       "      <td>6.016475e+04</td>\n",
       "      <td>4013.250000</td>\n",
       "      <td>54506.000000</td>\n",
       "      <td>4031.500000</td>\n",
       "      <td>50190.500000</td>\n",
       "      <td>4000.000000</td>\n",
       "      <td>49198.250000</td>\n",
       "      <td>0.000000</td>\n",
       "    </tr>\n",
       "    <tr>\n",
       "      <th>max</th>\n",
       "      <td>1000000.000000</td>\n",
       "      <td>873552.000000</td>\n",
       "      <td>964511.000000</td>\n",
       "      <td>1.684259e+06</td>\n",
       "      <td>983931.000000</td>\n",
       "      <td>896040.00000</td>\n",
       "      <td>1.664089e+06</td>\n",
       "      <td>621000.000000</td>\n",
       "      <td>891586.000000</td>\n",
       "      <td>426529.000000</td>\n",
       "      <td>927171.000000</td>\n",
       "      <td>528666.000000</td>\n",
       "      <td>961664.000000</td>\n",
       "      <td>1.000000</td>\n",
       "    </tr>\n",
       "  </tbody>\n",
       "</table>\n",
       "</div>"
      ],
      "text/plain": [
       "                 lbal            pa1            ba1           pa2  \\\n",
       "count    30000.000000   30000.000000   30000.000000  3.000000e+04   \n",
       "mean    167484.322667    5663.580500   51223.330900  5.921163e+03   \n",
       "std     129747.661567   16563.280354   73635.860576  2.304087e+04   \n",
       "min      10000.000000       0.000000 -165580.000000  0.000000e+00   \n",
       "25%      50000.000000    1000.000000    3558.750000  8.330000e+02   \n",
       "50%     140000.000000    2100.000000   22381.500000  2.009000e+03   \n",
       "75%     240000.000000    5006.000000   67091.000000  5.000000e+03   \n",
       "max    1000000.000000  873552.000000  964511.000000  1.684259e+06   \n",
       "\n",
       "                 ba2           pa3           ba3            pa4  \\\n",
       "count   30000.000000   30000.00000  3.000000e+04   30000.000000   \n",
       "mean    49179.075167    5225.68150  4.701315e+04    4826.076867   \n",
       "std     71173.768783   17606.96147  6.934939e+04   15666.159744   \n",
       "min    -69777.000000       0.00000 -1.572640e+05       0.000000   \n",
       "25%      2984.750000     390.00000  2.666250e+03     296.000000   \n",
       "50%     21200.000000    1800.00000  2.008850e+04    1500.000000   \n",
       "75%     64006.250000    4505.00000  6.016475e+04    4013.250000   \n",
       "max    983931.000000  896040.00000  1.664089e+06  621000.000000   \n",
       "\n",
       "                 ba4            pa5            ba5            pa6  \\\n",
       "count   30000.000000   30000.000000   30000.000000   30000.000000   \n",
       "mean    43262.948967    4799.387633   40311.400967    5215.502567   \n",
       "std     64332.856134   15278.305679   60797.155770   17777.465775   \n",
       "min   -170000.000000       0.000000  -81334.000000       0.000000   \n",
       "25%      2326.750000     252.500000    1763.000000     117.750000   \n",
       "50%     19052.000000    1500.000000   18104.500000    1500.000000   \n",
       "75%     54506.000000    4031.500000   50190.500000    4000.000000   \n",
       "max    891586.000000  426529.000000  927171.000000  528666.000000   \n",
       "\n",
       "                 ba6          dpay  \n",
       "count   30000.000000  30000.000000  \n",
       "mean    38871.760400      0.221200  \n",
       "std     59554.107537      0.415062  \n",
       "min   -339603.000000      0.000000  \n",
       "25%      1256.000000      0.000000  \n",
       "50%     17071.000000      0.000000  \n",
       "75%     49198.250000      0.000000  \n",
       "max    961664.000000      1.000000  "
      ]
     },
     "execution_count": 7,
     "metadata": {},
     "output_type": "execute_result"
    }
   ],
   "source": [
    "cdf.describe()"
   ]
  },
  {
   "cell_type": "code",
   "execution_count": 8,
   "metadata": {
    "collapsed": true
   },
   "outputs": [],
   "source": [
    "X=cdf.drop(\"dpay\",axis=1)\n",
    "y=cdf[\"dpay\"]"
   ]
  },
  {
   "cell_type": "code",
   "execution_count": 9,
   "metadata": {},
   "outputs": [
    {
     "name": "stdout",
     "output_type": "stream",
     "text": [
      "DecisionTreeClassifier(class_weight=None, criterion='entropy', max_depth=9,\n",
      "            max_features=None, max_leaf_nodes=100,\n",
      "            min_impurity_decrease=0.0, min_impurity_split=None,\n",
      "            min_samples_leaf=1, min_samples_split=5,\n",
      "            min_weight_fraction_leaf=0.0, presort=False, random_state=None,\n",
      "            splitter='best')\n"
     ]
    }
   ],
   "source": [
    "depth=list(range(3,11))\n",
    "grid = {'max_depth': np.arange(3, 10),\n",
    "             'criterion' : ['gini','entropy'],\n",
    "             'max_leaf_nodes': [5,10,20,100],\n",
    "             'min_samples_split': [2, 5, 10, 20]}\n",
    "\n",
    "model=tree.DecisionTreeClassifier()\n",
    "gmodel=model_selection.GridSearchCV(model,grid,scoring=\"recall\")\n",
    "gmodel.fit(X,y)\n",
    "best = gmodel.best_estimator_\n",
    "print(best)\n",
    "\n"
   ]
  },
  {
   "cell_type": "code",
   "execution_count": 10,
   "metadata": {},
   "outputs": [
    {
     "name": "stdout",
     "output_type": "stream",
     "text": [
      "{'lbal': 0.18552067306679698, 'pa1': 0.17600155472269466, 'ba1': 0.059948404384135352, 'pa2': 0.12531539727571492, 'ba2': 0.11449509434347845, 'pa3': 0.079326458082001519, 'ba3': 0.084900633738151307, 'pa4': 0.041445411693704436, 'ba4': 0.026205257571104833, 'pa5': 0.020557293104136509, 'ba5': 0.027496640882571189, 'pa6': 0.01910015421784891, 'ba6': 0.039687026917660927}\n"
     ]
    }
   ],
   "source": [
    "trmodel=tree.DecisionTreeClassifier(class_weight=None, criterion='entropy', max_depth=9,\n",
    "            max_features=None, max_leaf_nodes=100,\n",
    "            min_impurity_decrease=0.0, min_impurity_split=None,\n",
    "            min_samples_leaf=1, min_samples_split=5,\n",
    "            min_weight_fraction_leaf=0.0, presort=False, random_state=None,\n",
    "            splitter='best')\n",
    "trmodel.fit(X,y)\n",
    "print(dict(zip(X.columns, trmodel.feature_importances_)))"
   ]
  },
  {
   "cell_type": "code",
   "execution_count": 12,
   "metadata": {
    "collapsed": true
   },
   "outputs": [],
   "source": [
    "#cdf[\"c1\"]=(cdf.loc[:]-cdf.loc[:])\n",
    "#cdf[\"c2\"]=cdf[\"ba3\"]-cdf[\"pa2\"]"
   ]
  },
  {
   "cell_type": "code",
   "execution_count": 13,
   "metadata": {},
   "outputs": [
    {
     "name": "stdout",
     "output_type": "stream",
     "text": [
      "<class 'pandas.core.frame.DataFrame'>\n",
      "RangeIndex: 30000 entries, 0 to 29999\n",
      "Data columns (total 14 columns):\n",
      "lbal    30000 non-null float64\n",
      "pa1     30000 non-null float64\n",
      "ba1     30000 non-null float64\n",
      "pa2     30000 non-null float64\n",
      "ba2     30000 non-null float64\n",
      "pa3     30000 non-null float64\n",
      "ba3     30000 non-null float64\n",
      "pa4     30000 non-null float64\n",
      "ba4     30000 non-null float64\n",
      "pa5     30000 non-null float64\n",
      "ba5     30000 non-null float64\n",
      "pa6     30000 non-null float64\n",
      "ba6     30000 non-null float64\n",
      "dpay    30000 non-null int64\n",
      "dtypes: float64(13), int64(1)\n",
      "memory usage: 3.2 MB\n"
     ]
    }
   ],
   "source": [
    "cdf.info()"
   ]
  },
  {
   "cell_type": "code",
   "execution_count": 10,
   "metadata": {},
   "outputs": [
    {
     "name": "stderr",
     "output_type": "stream",
     "text": [
      "/home/delta/anaconda3/lib/python3.6/site-packages/ipykernel_launcher.py:3: SettingWithCopyWarning: \n",
      "A value is trying to be set on a copy of a slice from a DataFrame.\n",
      "Try using .loc[row_indexer,col_indexer] = value instead\n",
      "\n",
      "See the caveats in the documentation: http://pandas.pydata.org/pandas-docs/stable/indexing.html#indexing-view-versus-copy\n",
      "  This is separate from the ipykernel package so we can avoid doing imports until\n",
      "/home/delta/anaconda3/lib/python3.6/site-packages/pandas/core/indexing.py:179: SettingWithCopyWarning: \n",
      "A value is trying to be set on a copy of a slice from a DataFrame\n",
      "\n",
      "See the caveats in the documentation: http://pandas.pydata.org/pandas-docs/stable/indexing.html#indexing-view-versus-copy\n",
      "  self._setitem_with_indexer(indexer, value)\n",
      "/home/delta/anaconda3/lib/python3.6/site-packages/ipykernel_launcher.py:4: SettingWithCopyWarning: \n",
      "A value is trying to be set on a copy of a slice from a DataFrame\n",
      "\n",
      "See the caveats in the documentation: http://pandas.pydata.org/pandas-docs/stable/indexing.html#indexing-view-versus-copy\n",
      "  after removing the cwd from sys.path.\n",
      "/home/delta/anaconda3/lib/python3.6/site-packages/ipykernel_launcher.py:5: SettingWithCopyWarning: \n",
      "A value is trying to be set on a copy of a slice from a DataFrame\n",
      "\n",
      "See the caveats in the documentation: http://pandas.pydata.org/pandas-docs/stable/indexing.html#indexing-view-versus-copy\n",
      "  \"\"\"\n",
      "/home/delta/anaconda3/lib/python3.6/site-packages/ipykernel_launcher.py:6: SettingWithCopyWarning: \n",
      "A value is trying to be set on a copy of a slice from a DataFrame\n",
      "\n",
      "See the caveats in the documentation: http://pandas.pydata.org/pandas-docs/stable/indexing.html#indexing-view-versus-copy\n",
      "  \n",
      "/home/delta/anaconda3/lib/python3.6/site-packages/ipykernel_launcher.py:7: SettingWithCopyWarning: \n",
      "A value is trying to be set on a copy of a slice from a DataFrame\n",
      "\n",
      "See the caveats in the documentation: http://pandas.pydata.org/pandas-docs/stable/indexing.html#indexing-view-versus-copy\n",
      "  import sys\n",
      "/home/delta/anaconda3/lib/python3.6/site-packages/ipykernel_launcher.py:8: SettingWithCopyWarning: \n",
      "A value is trying to be set on a copy of a slice from a DataFrame\n",
      "\n",
      "See the caveats in the documentation: http://pandas.pydata.org/pandas-docs/stable/indexing.html#indexing-view-versus-copy\n",
      "  \n",
      "/home/delta/anaconda3/lib/python3.6/site-packages/ipykernel_launcher.py:9: SettingWithCopyWarning: \n",
      "A value is trying to be set on a copy of a slice from a DataFrame\n",
      "\n",
      "See the caveats in the documentation: http://pandas.pydata.org/pandas-docs/stable/indexing.html#indexing-view-versus-copy\n",
      "  if __name__ == '__main__':\n"
     ]
    }
   ],
   "source": [
    "#ddf.info()\n",
    "#ddf.AGE.describe()\n",
    "ddf['agecat'] = 0 #creates a column of 0\n",
    "ddf.loc[((ddf['AGE'] >= 20) & (ddf['AGE'] < 30)) , 'agecat'] = 1\n",
    "ddf.loc[((ddf['AGE'] >= 30) & (ddf['AGE'] < 40)) , 'agecat'] = 2\n",
    "ddf.loc[((ddf['AGE'] >= 40) & (ddf['AGE'] < 50)) , 'agecat'] = 3\n",
    "ddf.loc[((ddf['AGE'] >= 50) & (ddf['AGE'] < 60)) , 'agecat'] = 4\n",
    "ddf.loc[((ddf['AGE'] >= 60) & (ddf['AGE'] < 70)) , 'agecat'] = 5\n",
    "ddf.loc[((ddf['AGE'] >= 70) & (ddf['AGE'] < 81)) , 'agecat'] = 6"
   ]
  },
  {
   "cell_type": "code",
   "execution_count": 11,
   "metadata": {},
   "outputs": [
    {
     "name": "stdout",
     "output_type": "stream",
     "text": [
      "<class 'pandas.core.frame.DataFrame'>\n",
      "RangeIndex: 30000 entries, 0 to 29999\n",
      "Data columns (total 12 columns):\n",
      "sex       30000 non-null int64\n",
      "edu       30000 non-null int64\n",
      "mar       30000 non-null int64\n",
      "AGE       30000 non-null int64\n",
      "p1        30000 non-null int64\n",
      "p2        30000 non-null int64\n",
      "p3        30000 non-null int64\n",
      "p4        30000 non-null int64\n",
      "p5        30000 non-null int64\n",
      "p6        30000 non-null int64\n",
      "dpay      30000 non-null int64\n",
      "agecat    30000 non-null int64\n",
      "dtypes: int64(12)\n",
      "memory usage: 2.7 MB\n"
     ]
    }
   ],
   "source": [
    "ddf.info()\n",
    "#for col in [\"sex\",\"edu\",\"mar\",\"a]"
   ]
  },
  {
   "cell_type": "code",
   "execution_count": 12,
   "metadata": {
    "scrolled": true
   },
   "outputs": [
    {
     "name": "stderr",
     "output_type": "stream",
     "text": [
      "/home/delta/anaconda3/lib/python3.6/site-packages/ipykernel_launcher.py:4: SettingWithCopyWarning: \n",
      "A value is trying to be set on a copy of a slice from a DataFrame\n",
      "\n",
      "See the caveats in the documentation: http://pandas.pydata.org/pandas-docs/stable/indexing.html#indexing-view-versus-copy\n",
      "  after removing the cwd from sys.path.\n",
      "/home/delta/anaconda3/lib/python3.6/site-packages/ipykernel_launcher.py:5: SettingWithCopyWarning: \n",
      "A value is trying to be set on a copy of a slice from a DataFrame\n",
      "\n",
      "See the caveats in the documentation: http://pandas.pydata.org/pandas-docs/stable/indexing.html#indexing-view-versus-copy\n",
      "  \"\"\"\n"
     ]
    }
   ],
   "source": [
    "ddf1=ddf.copy()\n",
    "for col in [\"sex\",\"edu\",\"mar\",\"agecat\",\"p1\",\"p2\",\"p3\",\"p4\",\"p5\",\"p6\"]:\n",
    "    for val in ddf[col].unique():\n",
    "        ddf1[col][(ddf1[col]==val) & (ddf.dpay==0)] = (ddf[(ddf[col]==val) & (ddf.dpay==0)].shape[0])/ddf[ddf[col]==val].shape[0]\n",
    "        ddf1[col][(ddf1[col]==val) & (ddf.dpay==1)] = (ddf[(ddf[col]==val) & (ddf.dpay==1)].shape[0])/ddf[ddf[col]==val].shape[0]"
   ]
  },
  {
   "cell_type": "code",
   "execution_count": 35,
   "metadata": {},
   "outputs": [
    {
     "name": "stdout",
     "output_type": "stream",
     "text": [
      "DecisionTreeClassifier(class_weight=None, criterion='gini', max_depth=3,\n",
      "            max_features=None, max_leaf_nodes=5, min_impurity_decrease=0.0,\n",
      "            min_impurity_split=None, min_samples_leaf=1,\n",
      "            min_samples_split=2, min_weight_fraction_leaf=0.0,\n",
      "            presort=False, random_state=None, splitter='best')\n"
     ]
    }
   ],
   "source": [
    "X=ddf1[[\"sex\",\"edu\",\"mar\",\"agecat\",\"p1\",\"p2\",\"p3\",\"p4\",\"p5\",\"p6\"]]\n",
    "y=ddf1[\"dpay\"]\n",
    "#####grid search\n",
    "\n",
    "depth=list(range(3,11))\n",
    "grid = {'max_depth': np.arange(3, 20),\n",
    "             'criterion' : ['gini','entropy'],\n",
    "             'max_leaf_nodes': [5,10,20,100],\n",
    "             'min_samples_split': [2, 5, 10, 20,30,50]}\n",
    "\n",
    "model=tree.DecisionTreeClassifier()\n",
    "gmodel=model_selection.GridSearchCV(model,grid,scoring=\"recall\")\n",
    "gmodel.fit(X,y)\n",
    "best = gmodel.best_estimator_\n",
    "print(best)\n"
   ]
  },
  {
   "cell_type": "code",
   "execution_count": null,
   "metadata": {
    "collapsed": true
   },
   "outputs": [],
   "source": []
  },
  {
   "cell_type": "code",
   "execution_count": null,
   "metadata": {
    "collapsed": true
   },
   "outputs": [],
   "source": []
  },
  {
   "cell_type": "code",
   "execution_count": null,
   "metadata": {
    "collapsed": true
   },
   "outputs": [],
   "source": []
  },
  {
   "cell_type": "code",
   "execution_count": 36,
   "metadata": {},
   "outputs": [
    {
     "name": "stdout",
     "output_type": "stream",
     "text": [
      "{'sex': 0.0, 'edu': 0.0, 'mar': 0.0, 'agecat': 1.0, 'p1': 0.0, 'p2': 0.0, 'p3': 0.0, 'p4': 0.0, 'p5': 0.0, 'p6': 0.0}\n"
     ]
    }
   ],
   "source": [
    "trmodel=tree.DecisionTreeClassifier(class_weight=None, criterion='gini', max_depth=3,\n",
    "            max_features=None, max_leaf_nodes=5, min_impurity_decrease=0.0,\n",
    "            min_impurity_split=None, min_samples_leaf=1,\n",
    "            min_samples_split=2, min_weight_fraction_leaf=0.0,\n",
    "            presort=False, random_state=None, splitter='best')\n",
    "trmodel.fit(X,y)\n",
    "print(dict(zip(X.columns, best.feature_importances_)))"
   ]
  },
  {
   "cell_type": "code",
   "execution_count": null,
   "metadata": {
    "collapsed": true
   },
   "outputs": [],
   "source": []
  }
 ],
 "metadata": {
  "kernelspec": {
   "display_name": "Python 3",
   "language": "python",
   "name": "python3"
  },
  "language_info": {
   "codemirror_mode": {
    "name": "ipython",
    "version": 3
   },
   "file_extension": ".py",
   "mimetype": "text/x-python",
   "name": "python",
   "nbconvert_exporter": "python",
   "pygments_lexer": "ipython3",
   "version": "3.6.8"
  }
 },
 "nbformat": 4,
 "nbformat_minor": 2
}
